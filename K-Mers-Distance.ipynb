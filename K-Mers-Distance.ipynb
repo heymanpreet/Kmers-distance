{
 "cells": [
  {
   "cell_type": "code",
   "execution_count": null,
   "metadata": {},
   "outputs": [],
   "source": [
    "# Importing BioPython and mmh3 Hash Package Package\n",
    "!pip install Bio\n",
    "!pip install mmh3\n",
    "from Bio import SeqIO"
   ]
  },
  {
   "cell_type": "code",
   "execution_count": null,
   "metadata": {},
   "outputs": [],
   "source": [
    "# Reading FASTA Files Fn and returning K-Mer Sequences\n",
    "def readFileSeq(fileName,size):\n",
    "    sequences = [];\n",
    "    sequenceStr = \"\";\n",
    "    readFile = SeqIO.parse(fileName, \"fasta\");\n",
    "# Reading the Seq as a string\n",
    "    for seq_record in readFile:\n",
    "        sequenceStr += str(seq_record.seq);\n",
    "# Passing the seq string to Kmer_seq fn to generate 14-mer sequences\n",
    "    sequences = kmer_seq(sequenceStr,size);\n",
    "    return sequences"
   ]
  },
  {
   "cell_type": "code",
   "execution_count": null,
   "metadata": {},
   "outputs": [],
   "source": [
    "# Fn for Generating K-Mer Sequences\n",
    "def kmer_seq(sequence, size):\n",
    "    kmers = []\n",
    "    kmersDict = {};\n",
    "# No. of K-mer sequences generated for size 14 \n",
    "    n_kmers = len(sequence) - size + 1\n",
    "    \n",
    "# Adding each 14-mer sequence to Dictinary\n",
    "    for i in range(n_kmers):\n",
    "        kmer = sequence[i:i + size]\n",
    "#         kmers.append(kmer)\n",
    "        if(kmersDict.get(kmer) == None):\n",
    "            kmersDict[kmer] = 1;\n",
    "        else:\n",
    "            kmersDict[kmer] = kmersDict.get(kmer) + 1;\n",
    "#     return list(kmersDict.keys())\n",
    "    return kmersDict\n",
    "        "
   ]
  },
  {
   "cell_type": "code",
   "execution_count": null,
   "metadata": {},
   "outputs": [],
   "source": [
    "# Step 1: Reading FASTA Files and Generating 14-mer sequence\n",
    "seq1 = readFileSeq(\"R6.fa\",14)\n",
    "seq2 = readFileSeq(\"TIGR4.fa\",14)"
   ]
  },
  {
   "cell_type": "code",
   "execution_count": null,
   "metadata": {
    "scrolled": false
   },
   "outputs": [],
   "source": [
    "seq1"
   ]
  },
  {
   "cell_type": "code",
   "execution_count": null,
   "metadata": {},
   "outputs": [],
   "source": [
    "seq2"
   ]
  },
  {
   "cell_type": "code",
   "execution_count": null,
   "metadata": {},
   "outputs": [],
   "source": [
    "# Step2: Taking 14-mer sequences occuring once or more \n",
    "seq1 = list(readFileSeq(\"R6.fa\",14).keys())\n",
    "seq2 = list(readFileSeq(\"TIGR4.fa\",14).keys())"
   ]
  },
  {
   "cell_type": "code",
   "execution_count": null,
   "metadata": {},
   "outputs": [],
   "source": [
    "seq1"
   ]
  },
  {
   "cell_type": "code",
   "execution_count": null,
   "metadata": {},
   "outputs": [],
   "source": [
    "seq2"
   ]
  },
  {
   "cell_type": "code",
   "execution_count": null,
   "metadata": {},
   "outputs": [],
   "source": [
    "# Fn to Calculate Jaccard Distance between sequences\n",
    "def jaccard_distance(seq1, seq2):\n",
    "    a = set(seq1)\n",
    "    b = set(seq2)\n",
    "\n",
    "    intersection = len(a.intersection(b))\n",
    "    union = len(a.union(b)) -intersection\n",
    "\n",
    "    return intersection / union"
   ]
  },
  {
   "cell_type": "code",
   "execution_count": null,
   "metadata": {},
   "outputs": [],
   "source": [
    "# Step2: Calculating MinHash Jaccard distances for both Sequences\n",
    "jaccard_distance(seq1,seq2)"
   ]
  },
  {
   "cell_type": "code",
   "execution_count": null,
   "metadata": {},
   "outputs": [],
   "source": [
    "# Step 3: Importing mmh3 Hashing Package for MurmurHash Implementation\n",
    "import mmh3"
   ]
  },
  {
   "cell_type": "code",
   "execution_count": null,
   "metadata": {},
   "outputs": [],
   "source": [
    "# Testing mmh3 function for same values\n",
    "mmh3.hash(\"TTGAAAGAAAAACA\")"
   ]
  },
  {
   "cell_type": "code",
   "execution_count": null,
   "metadata": {},
   "outputs": [],
   "source": [
    "# Testing mmh3 function for same values\n",
    "mmh3.hash(\"TTGAAAGAAAAACA\")"
   ]
  },
  {
   "cell_type": "code",
   "execution_count": null,
   "metadata": {},
   "outputs": [],
   "source": [
    "# Step 4: Fn to calculate Hashing Value for 14-mer values in sequences\n",
    "def hashKmers(seqs):\n",
    "    hashSeq = [];\n",
    "    for seq in seqs:\n",
    "        hashSeq.append(mmh3.hash(seq));\n",
    "    return hashSeq;"
   ]
  },
  {
   "cell_type": "code",
   "execution_count": null,
   "metadata": {},
   "outputs": [],
   "source": [
    "# Step 4: Calculating Hash Values for 14-mers in each sequences\n",
    "hashSeq1 = hashKmers(seq1);\n",
    "hashSeq1"
   ]
  },
  {
   "cell_type": "code",
   "execution_count": null,
   "metadata": {},
   "outputs": [],
   "source": [
    "# Step 4: Calculating Hash Values for 14-mers in each sequences\n",
    "hashSeq2 = hashKmers(seq2);\n",
    "hashSeq2"
   ]
  },
  {
   "cell_type": "code",
   "execution_count": null,
   "metadata": {},
   "outputs": [],
   "source": [
    "# Step 4: Sorting the Hash Values\n",
    "hashSeq1.sort()\n",
    "hashSeq2.sort()"
   ]
  },
  {
   "cell_type": "code",
   "execution_count": null,
   "metadata": {},
   "outputs": [],
   "source": [
    "hashSeq1"
   ]
  },
  {
   "cell_type": "code",
   "execution_count": null,
   "metadata": {},
   "outputs": [],
   "source": [
    "hashSeq2"
   ]
  },
  {
   "cell_type": "code",
   "execution_count": null,
   "metadata": {},
   "outputs": [],
   "source": [
    "# Taking Smallest s Hashes of size 1000\n",
    "hashSeq1Top = hashSeq1[:1000]\n",
    "hashSeq2Top = hashSeq2[:1000]"
   ]
  },
  {
   "cell_type": "code",
   "execution_count": null,
   "metadata": {},
   "outputs": [],
   "source": [
    "hashSeq1Top"
   ]
  },
  {
   "cell_type": "code",
   "execution_count": null,
   "metadata": {},
   "outputs": [],
   "source": [
    "hashSeq2Top"
   ]
  },
  {
   "cell_type": "code",
   "execution_count": null,
   "metadata": {},
   "outputs": [],
   "source": [
    "# Step 5: Calculating Jaccard Dist between Hash Values\n",
    "jaccard_distance(hashSeq1Top,hashSeq2Top)"
   ]
  },
  {
   "cell_type": "code",
   "execution_count": null,
   "metadata": {},
   "outputs": [],
   "source": []
  }
 ],
 "metadata": {
  "kernelspec": {
   "display_name": "Python 3",
   "language": "python",
   "name": "python3"
  },
  "language_info": {
   "codemirror_mode": {
    "name": "ipython",
    "version": 3
   },
   "file_extension": ".py",
   "mimetype": "text/x-python",
   "name": "python",
   "nbconvert_exporter": "python",
   "pygments_lexer": "ipython3",
   "version": "3.7.1"
  }
 },
 "nbformat": 4,
 "nbformat_minor": 2
}
